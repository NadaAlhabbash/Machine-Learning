{
 "cells": [
  {
   "cell_type": "code",
   "execution_count": 1,
   "id": "b6e8e71f",
   "metadata": {},
   "outputs": [],
   "source": [
    "import pandas as pd\n",
    "import numpy as np\n",
    "import matplotlib.pyplot as plt\n",
    "from plotly.offline import iplot\n",
    "import plotly.graph_objs as go"
   ]
  },
  {
   "cell_type": "code",
   "execution_count": 2,
   "id": "938e25eb",
   "metadata": {},
   "outputs": [],
   "source": [
    "timesData=pd.read_csv(\"D:/university/ThirdYear/Seconed/Introduction to Machine Learning/Lab/3/plotly/plotly/box_plot_with_plotly/data/timesData.csv\")"
   ]
  },
  {
   "cell_type": "code",
   "execution_count": 3,
   "id": "0ca035d0",
   "metadata": {},
   "outputs": [
    {
     "data": {
      "text/html": [
       "<div>\n",
       "<style scoped>\n",
       "    .dataframe tbody tr th:only-of-type {\n",
       "        vertical-align: middle;\n",
       "    }\n",
       "\n",
       "    .dataframe tbody tr th {\n",
       "        vertical-align: top;\n",
       "    }\n",
       "\n",
       "    .dataframe thead th {\n",
       "        text-align: right;\n",
       "    }\n",
       "</style>\n",
       "<table border=\"1\" class=\"dataframe\">\n",
       "  <thead>\n",
       "    <tr style=\"text-align: right;\">\n",
       "      <th></th>\n",
       "      <th>world_rank</th>\n",
       "      <th>university_name</th>\n",
       "      <th>country</th>\n",
       "      <th>teaching</th>\n",
       "      <th>international</th>\n",
       "      <th>research</th>\n",
       "      <th>citations</th>\n",
       "      <th>income</th>\n",
       "      <th>total_score</th>\n",
       "      <th>num_students</th>\n",
       "      <th>student_staff_ratio</th>\n",
       "      <th>international_students</th>\n",
       "      <th>female_male_ratio</th>\n",
       "      <th>year</th>\n",
       "    </tr>\n",
       "  </thead>\n",
       "  <tbody>\n",
       "    <tr>\n",
       "      <th>0</th>\n",
       "      <td>1</td>\n",
       "      <td>Harvard University</td>\n",
       "      <td>United States of America</td>\n",
       "      <td>99.7</td>\n",
       "      <td>72.4</td>\n",
       "      <td>98.7</td>\n",
       "      <td>98.8</td>\n",
       "      <td>34.5</td>\n",
       "      <td>96.1</td>\n",
       "      <td>20,152</td>\n",
       "      <td>8.9</td>\n",
       "      <td>25%</td>\n",
       "      <td>NaN</td>\n",
       "      <td>2011</td>\n",
       "    </tr>\n",
       "    <tr>\n",
       "      <th>1</th>\n",
       "      <td>2</td>\n",
       "      <td>California Institute of Technology</td>\n",
       "      <td>United States of America</td>\n",
       "      <td>97.7</td>\n",
       "      <td>54.6</td>\n",
       "      <td>98.0</td>\n",
       "      <td>99.9</td>\n",
       "      <td>83.7</td>\n",
       "      <td>96.0</td>\n",
       "      <td>2,243</td>\n",
       "      <td>6.9</td>\n",
       "      <td>27%</td>\n",
       "      <td>33 : 67</td>\n",
       "      <td>2011</td>\n",
       "    </tr>\n",
       "    <tr>\n",
       "      <th>2</th>\n",
       "      <td>3</td>\n",
       "      <td>Massachusetts Institute of Technology</td>\n",
       "      <td>United States of America</td>\n",
       "      <td>97.8</td>\n",
       "      <td>82.3</td>\n",
       "      <td>91.4</td>\n",
       "      <td>99.9</td>\n",
       "      <td>87.5</td>\n",
       "      <td>95.6</td>\n",
       "      <td>11,074</td>\n",
       "      <td>9.0</td>\n",
       "      <td>33%</td>\n",
       "      <td>37 : 63</td>\n",
       "      <td>2011</td>\n",
       "    </tr>\n",
       "    <tr>\n",
       "      <th>3</th>\n",
       "      <td>4</td>\n",
       "      <td>Stanford University</td>\n",
       "      <td>United States of America</td>\n",
       "      <td>98.3</td>\n",
       "      <td>29.5</td>\n",
       "      <td>98.1</td>\n",
       "      <td>99.2</td>\n",
       "      <td>64.3</td>\n",
       "      <td>94.3</td>\n",
       "      <td>15,596</td>\n",
       "      <td>7.8</td>\n",
       "      <td>22%</td>\n",
       "      <td>42 : 58</td>\n",
       "      <td>2011</td>\n",
       "    </tr>\n",
       "    <tr>\n",
       "      <th>4</th>\n",
       "      <td>5</td>\n",
       "      <td>Princeton University</td>\n",
       "      <td>United States of America</td>\n",
       "      <td>90.9</td>\n",
       "      <td>70.3</td>\n",
       "      <td>95.4</td>\n",
       "      <td>99.9</td>\n",
       "      <td>-</td>\n",
       "      <td>94.2</td>\n",
       "      <td>7,929</td>\n",
       "      <td>8.4</td>\n",
       "      <td>27%</td>\n",
       "      <td>45 : 55</td>\n",
       "      <td>2011</td>\n",
       "    </tr>\n",
       "  </tbody>\n",
       "</table>\n",
       "</div>"
      ],
      "text/plain": [
       "  world_rank                        university_name                   country  \\\n",
       "0          1                     Harvard University  United States of America   \n",
       "1          2     California Institute of Technology  United States of America   \n",
       "2          3  Massachusetts Institute of Technology  United States of America   \n",
       "3          4                    Stanford University  United States of America   \n",
       "4          5                   Princeton University  United States of America   \n",
       "\n",
       "   teaching international  research  citations income total_score  \\\n",
       "0      99.7          72.4      98.7       98.8   34.5        96.1   \n",
       "1      97.7          54.6      98.0       99.9   83.7        96.0   \n",
       "2      97.8          82.3      91.4       99.9   87.5        95.6   \n",
       "3      98.3          29.5      98.1       99.2   64.3        94.3   \n",
       "4      90.9          70.3      95.4       99.9      -        94.2   \n",
       "\n",
       "  num_students  student_staff_ratio international_students female_male_ratio  \\\n",
       "0       20,152                  8.9                    25%               NaN   \n",
       "1        2,243                  6.9                    27%           33 : 67   \n",
       "2       11,074                  9.0                    33%           37 : 63   \n",
       "3       15,596                  7.8                    22%           42 : 58   \n",
       "4        7,929                  8.4                    27%           45 : 55   \n",
       "\n",
       "   year  \n",
       "0  2011  \n",
       "1  2011  \n",
       "2  2011  \n",
       "3  2011  \n",
       "4  2011  "
      ]
     },
     "execution_count": 3,
     "metadata": {},
     "output_type": "execute_result"
    }
   ],
   "source": [
    "timesData.head()"
   ]
  },
  {
   "cell_type": "code",
   "execution_count": 4,
   "id": "c2074e64",
   "metadata": {},
   "outputs": [
    {
     "name": "stdout",
     "output_type": "stream",
     "text": [
      "<class 'pandas.core.frame.DataFrame'>\n",
      "RangeIndex: 2603 entries, 0 to 2602\n",
      "Data columns (total 14 columns):\n",
      " #   Column                  Non-Null Count  Dtype  \n",
      "---  ------                  --------------  -----  \n",
      " 0   world_rank              2603 non-null   object \n",
      " 1   university_name         2603 non-null   object \n",
      " 2   country                 2603 non-null   object \n",
      " 3   teaching                2603 non-null   float64\n",
      " 4   international           2603 non-null   object \n",
      " 5   research                2603 non-null   float64\n",
      " 6   citations               2603 non-null   float64\n",
      " 7   income                  2603 non-null   object \n",
      " 8   total_score             2603 non-null   object \n",
      " 9   num_students            2544 non-null   object \n",
      " 10  student_staff_ratio     2544 non-null   float64\n",
      " 11  international_students  2536 non-null   object \n",
      " 12  female_male_ratio       2370 non-null   object \n",
      " 13  year                    2603 non-null   int64  \n",
      "dtypes: float64(4), int64(1), object(9)\n",
      "memory usage: 284.8+ KB\n"
     ]
    }
   ],
   "source": [
    "timesData.info()"
   ]
  },
  {
   "cell_type": "code",
   "execution_count": 6,
   "id": "c03aa816",
   "metadata": {},
   "outputs": [],
   "source": [
    "x2013 = timesData[timesData.year == 2013] "
   ]
  },
  {
   "cell_type": "code",
   "execution_count": 7,
   "id": "fa2c6d24",
   "metadata": {},
   "outputs": [
    {
     "name": "stdout",
     "output_type": "stream",
     "text": [
      "Index(['world_rank', 'university_name', 'country', 'teaching', 'international',\n",
      "       'research', 'citations', 'income', 'total_score', 'num_students',\n",
      "       'student_staff_ratio', 'international_students', 'female_male_ratio',\n",
      "       'year'],\n",
      "      dtype='object')\n"
     ]
    }
   ],
   "source": [
    "print(timesData.columns)"
   ]
  },
  {
   "cell_type": "code",
   "execution_count": 8,
   "id": "b8c292dd",
   "metadata": {},
   "outputs": [],
   "source": [
    "international = [float(each) for each in x2013.international] \n",
    "                                                "
   ]
  },
  {
   "cell_type": "code",
   "execution_count": 10,
   "id": "47f07c43",
   "metadata": {},
   "outputs": [
    {
     "data": {
      "application/vnd.plotly.v1+json": {
       "config": {
        "linkText": "Export to plot.ly",
        "plotlyServerURL": "https://plot.ly",
        "showLink": false
       },
       "data": [
        {
         "marker": {
          "color": "rgb(12, 12, 140)"
         },
         "name": "international score of universities in 2013",
         "type": "box",
         "y": [
          "59.8",
          "56.6",
          "88.7",
          "63.7",
          "81.6",
          "54.5",
          "83.6",
          "91.4",
          "49.7",
          "55.3",
          "54.7",
          "95.7",
          "42.3",
          "66.1",
          "38.1",
          "57.3",
          "89.0",
          "53.8",
          "33.8",
          "47.6",
          "65.1",
          "51.4",
          "45.8",
          "39.1",
          "66.3",
          "42.1",
          "27.6",
          "77.2",
          "92.3",
          "82.1",
          "29.8",
          "78.9",
          "36.0",
          "75.9",
          "58.3",
          "81.7",
          "90.0",
          "34.2",
          "87.2",
          "98.8",
          "38.7",
          "64.5",
          "32.9",
          "51.7",
          "44.3",
          "54.1",
          "28.7",
          "54.7",
          "77.9",
          "28.8",
          "36.9",
          "37.2",
          "46.3",
          "39.2",
          "26.3",
          "43.4",
          "86.0",
          "56.6",
          "27.0",
          "67.3",
          "34.9",
          "83.0",
          "83.0",
          "54.8",
          "78.1",
          "77.8",
          "47.3",
          "31.1",
          "54.8",
          "51.0",
          "79.2",
          "62.8",
          "31.7",
          "71.9",
          "59.0",
          "29.4",
          "67.7",
          "61.3",
          "36.6",
          "77.7",
          "64.4",
          "64.4",
          "57.0",
          "74.6",
          "84.8",
          "90.5",
          "39.6",
          "66.9",
          "49.8",
          "84.1",
          "34.7",
          "63.9",
          "49.1",
          "36.8",
          "41.6",
          "35.2",
          "40.4",
          "31.3",
          "57.5",
          "66.4",
          "27.9",
          "45.9",
          "71.9",
          "34.2",
          "61.5",
          "56.3",
          "27.5",
          "86.3",
          "48.3",
          "84.5",
          "68.1",
          "76.7",
          "75.1",
          "69.8",
          "85.2",
          "66.4",
          "52.2",
          "27.9",
          "92.5",
          "70.1",
          "67.6",
          "32.5",
          "31.2",
          "62.6",
          "31.5",
          "80.9",
          "53.4",
          "60.9",
          "29.6",
          "73.5",
          "82.7",
          "77.4",
          "95.3",
          "36.0",
          "24.6",
          "25.2",
          "50.3",
          "32.0",
          "69.7",
          "86.1",
          "47.1",
          "89.8",
          "66.6",
          "54.9",
          "76.2",
          "87.0",
          "23.6",
          "27.4",
          "77.0",
          "52.4",
          "64.5",
          "77.3",
          "74.1",
          "53.9",
          "62.8",
          "47.2",
          "28.4",
          "39.5",
          "69.7",
          "24.5",
          "88.0",
          "52.8",
          "86.3",
          "64.3",
          "37.3",
          "66.8",
          "46.8",
          "36.6",
          "26.4",
          "61.0",
          "54.0",
          "73.7",
          "58.1",
          "32.9",
          "32.9",
          "84.1",
          "82.2",
          "68.9",
          "72.4",
          "56.3",
          "74.4",
          "64.0",
          "33.4",
          "51.2",
          "29.1",
          "25.8",
          "76.5",
          "61.5",
          "27.7",
          "88.4",
          "19.0",
          "58.5",
          "30.5",
          "55.9",
          "33.1",
          "83.7",
          "65.9",
          "50.7",
          "57.6",
          "83.2",
          "47.1",
          "45.3",
          "68.1",
          "38.6",
          "57.0",
          "50.3",
          "28.0",
          "25.3",
          "41.0",
          "49.9",
          "58.0",
          "57.9",
          "30.9",
          "56.6",
          "46.0",
          "66.6",
          "49.0",
          "36.2",
          "48.4",
          "88.7",
          "58.5",
          "59.0",
          "22.0",
          "68.3",
          "56.3",
          "42.0",
          "56.8",
          "65.3",
          "58.4",
          "32.6",
          "16.1",
          "27.3",
          "52.8",
          "54.4",
          "62.4",
          "18.8",
          "20.1",
          "55.6",
          "64.4",
          "31.2",
          "71.0",
          "62.2",
          "23.9",
          "30.8",
          "85.4",
          "19.7",
          "65.1",
          "58.3",
          "51.3",
          "44.8",
          "78.2",
          "52.0",
          "59.1",
          "65.4",
          "19.9",
          "86.8",
          "48.4",
          "27.2",
          "57.5",
          "69.2",
          "20.9",
          "47.8",
          "19.6",
          "52.4",
          "40.5",
          "86.4",
          "59.9",
          "44.6",
          "35.7",
          "36.2",
          "43.2",
          "30.2",
          "48.5",
          "84.8",
          "71.4",
          "63.1",
          "70.3",
          "50.4",
          "47.5",
          "36.7",
          "29.8",
          "36.6",
          "20.8",
          "54.2",
          "34.2",
          "87.1",
          "48.3",
          "20.7",
          "46.8",
          "21.9",
          "48.9",
          "75.9",
          "37.6",
          "28.1",
          "24.9",
          "70.5",
          "31.3",
          "67.3",
          "51.2",
          "36.3",
          "27.8",
          "45.7",
          "89.4",
          "50.3",
          "50.0",
          "26.0",
          "24.9",
          "62.0",
          "59.0",
          "71.0",
          "21.7",
          "47.7",
          "66.2",
          "83.3",
          "22.9",
          "23.9",
          "69.3",
          "29.2",
          "38.1",
          "45.8",
          "33.2",
          "16.7",
          "27.8",
          "24.2",
          "61.8",
          "71.5",
          "88.0",
          "44.4",
          "39.5",
          "59.5",
          "59.7",
          "39.0",
          "21.7",
          "38.6",
          "32.6",
          "37.0",
          "34.4",
          "29.6",
          "70.2",
          "81.0",
          "35.0",
          "30.7",
          "19.9",
          "85.6",
          "83.7",
          "48.4",
          "33.9",
          "28.1",
          "50.7",
          "20.1",
          "67.2",
          "30.7",
          "44.3",
          "68.4",
          "59.8",
          "34.9",
          "84.2",
          "15.6",
          "41.7",
          "64.2",
          "22.2",
          "23.8",
          "30.4",
          "48.2",
          "63.9",
          "73.3",
          "33.2",
          "27.9",
          "18.8",
          "69.2",
          "57.6",
          "26.1",
          "35.2",
          "20.1",
          "48.7",
          "50.2",
          "41.4",
          "77.2",
          "32.6",
          "49.7",
          "56.2",
          "67.8",
          "44.1",
          "30.0",
          "24.2",
          "43.2",
          "28.4",
          "63.7",
          "63.0",
          "80.4",
          "42.4",
          "68.4",
          "74.7",
          "28.6",
          "53.0",
          "40.8",
          "26.9",
          "39.8",
          "28.1",
          "32.8"
         ]
        },
        {
         "marker": {
          "color": "rgb(12, 128, 128)"
         },
         "name": "research of universities in 2013",
         "type": "box",
         "y": [
          99.4,
          98.8,
          98.1,
          98.6,
          89.2,
          99.4,
          95.6,
          90.9,
          99.3,
          92.9,
          92.5,
          92.7,
          93.8,
          82,
          89.4,
          85.5,
          88.8,
          92.1,
          87.3,
          91.4,
          89.4,
          87,
          81.5,
          81.3,
          79.5,
          80.7,
          89.9,
          82.5,
          87.2,
          80.4,
          80.1,
          71.3,
          84.9,
          80.4,
          73.5,
          85.9,
          83.5,
          79,
          80.8,
          57,
          67.4,
          75.7,
          69.3,
          71.6,
          62.8,
          67.9,
          74,
          66.5,
          67.7,
          63.9,
          60.3,
          76.4,
          60.9,
          50.9,
          74.8,
          57.1,
          59.3,
          71,
          81.4,
          46.9,
          69.2,
          70.1,
          54.7,
          67.1,
          64.6,
          66.1,
          64.7,
          68.9,
          71.9,
          52.5,
          53.7,
          64.1,
          62.6,
          51.7,
          39.3,
          55.1,
          75.1,
          49,
          44.4,
          44.5,
          43.5,
          61.3,
          61.3,
          57.9,
          63.8,
          66.9,
          36.4,
          47.9,
          61,
          41.6,
          44.4,
          45.9,
          56.7,
          56.8,
          39.6,
          47.2,
          51.4,
          53.7,
          58.7,
          60.6,
          61.3,
          37.8,
          43.9,
          42,
          42.4,
          63.9,
          40.9,
          43.8,
          53,
          33.5,
          46.2,
          39.5,
          45.5,
          51.8,
          53.2,
          54.6,
          43.8,
          43,
          27.7,
          50.8,
          53.9,
          39.6,
          62.9,
          63.1,
          35.9,
          50.5,
          54.3,
          56.5,
          56.1,
          40.4,
          44.8,
          38.9,
          42.5,
          44.2,
          65.7,
          41.3,
          55.8,
          55.6,
          40.2,
          49.7,
          45.1,
          23.2,
          48.6,
          33,
          40.9,
          30,
          55.7,
          45.2,
          30,
          33.2,
          38.9,
          36,
          38.1,
          32.4,
          32.5,
          58.3,
          30.1,
          59.8,
          46.7,
          65.7,
          40.9,
          29.9,
          46.7,
          40.5,
          41.6,
          27.1,
          32.2,
          28,
          40.9,
          25.9,
          26.1,
          37.5,
          41.4,
          35.6,
          40.2,
          34.3,
          43.7,
          27.7,
          41.1,
          26.5,
          30.5,
          41.8,
          50.6,
          22.5,
          42.6,
          22.6,
          31.8,
          46.4,
          39.6,
          39.9,
          22.4,
          35.5,
          34.3,
          50.2,
          27,
          32.5,
          33.7,
          40.6,
          29.7,
          30.5,
          35.7,
          27.9,
          38.2,
          39.5,
          18.4,
          48.1,
          46,
          39.2,
          21.2,
          23.2,
          35.4,
          22.6,
          48.7,
          54.5,
          33.4,
          23.2,
          18.7,
          40.1,
          41.9,
          17.9,
          35.6,
          39.8,
          27.7,
          29.2,
          25.1,
          30.5,
          26.7,
          41.5,
          11.9,
          17.5,
          45.3,
          43.7,
          22.3,
          27.3,
          25.6,
          10.6,
          44.1,
          35.3,
          31.8,
          22.6,
          26.8,
          35.8,
          26.5,
          45.8,
          30.9,
          42,
          38.3,
          42.1,
          37.2,
          19.4,
          30.6,
          26.8,
          29.8,
          41.2,
          33.1,
          29.6,
          25.3,
          49.6,
          27.7,
          37,
          46.8,
          35,
          9.8,
          34.5,
          29.7,
          34.6,
          28,
          27,
          24.2,
          21.1,
          20.4,
          21.7,
          14.3,
          29.1,
          32.4,
          21.7,
          25.7,
          14.9,
          20.3,
          33.9,
          32,
          14.9,
          25.5,
          25.8,
          24.2,
          23.8,
          32.9,
          37.9,
          25.3,
          21.6,
          15.6,
          28.8,
          27.4,
          20.5,
          14.9,
          29,
          28,
          19.6,
          21.9,
          23.4,
          44.4,
          24,
          20.1,
          26.2,
          17.1,
          9.3,
          34.2,
          15.1,
          13.8,
          10.3,
          28.8,
          27,
          13.4,
          18.9,
          40.3,
          32.5,
          19.8,
          28.8,
          23.8,
          12,
          30.6,
          42.8,
          30,
          17.8,
          19.4,
          19.5,
          24,
          16.3,
          19.1,
          11,
          17.6,
          31.3,
          27.8,
          32.4,
          16.4,
          21.4,
          18.3,
          23.2,
          10.5,
          25,
          23.9,
          26.2,
          20.6,
          19.9,
          27.3,
          26.8,
          30.6,
          16.2,
          30.1,
          34.5,
          24.9,
          21.9,
          15.3,
          22,
          24.2,
          19.7,
          21.4,
          13.7,
          13.8,
          18.8,
          28,
          10.2,
          19.7,
          19.1,
          32.7,
          19.2,
          31.6,
          26.5,
          42.5,
          23.9,
          12.7,
          12.1,
          9,
          18.8,
          21.1,
          14.7,
          13,
          9.1,
          25,
          15.8,
          20.2,
          16.9,
          19.7,
          16.6,
          17.8,
          21.1,
          21.3,
          23.7,
          21.6,
          25,
          27.4,
          17.5,
          21.5,
          17.6,
          11.4,
          14.5,
          9.5,
          18.4,
          24.2,
          21.3
         ]
        }
       ],
       "layout": {
        "template": {
         "data": {
          "bar": [
           {
            "error_x": {
             "color": "#2a3f5f"
            },
            "error_y": {
             "color": "#2a3f5f"
            },
            "marker": {
             "line": {
              "color": "#E5ECF6",
              "width": 0.5
             },
             "pattern": {
              "fillmode": "overlay",
              "size": 10,
              "solidity": 0.2
             }
            },
            "type": "bar"
           }
          ],
          "barpolar": [
           {
            "marker": {
             "line": {
              "color": "#E5ECF6",
              "width": 0.5
             },
             "pattern": {
              "fillmode": "overlay",
              "size": 10,
              "solidity": 0.2
             }
            },
            "type": "barpolar"
           }
          ],
          "carpet": [
           {
            "aaxis": {
             "endlinecolor": "#2a3f5f",
             "gridcolor": "white",
             "linecolor": "white",
             "minorgridcolor": "white",
             "startlinecolor": "#2a3f5f"
            },
            "baxis": {
             "endlinecolor": "#2a3f5f",
             "gridcolor": "white",
             "linecolor": "white",
             "minorgridcolor": "white",
             "startlinecolor": "#2a3f5f"
            },
            "type": "carpet"
           }
          ],
          "choropleth": [
           {
            "colorbar": {
             "outlinewidth": 0,
             "ticks": ""
            },
            "type": "choropleth"
           }
          ],
          "contour": [
           {
            "colorbar": {
             "outlinewidth": 0,
             "ticks": ""
            },
            "colorscale": [
             [
              0,
              "#0d0887"
             ],
             [
              0.1111111111111111,
              "#46039f"
             ],
             [
              0.2222222222222222,
              "#7201a8"
             ],
             [
              0.3333333333333333,
              "#9c179e"
             ],
             [
              0.4444444444444444,
              "#bd3786"
             ],
             [
              0.5555555555555556,
              "#d8576b"
             ],
             [
              0.6666666666666666,
              "#ed7953"
             ],
             [
              0.7777777777777778,
              "#fb9f3a"
             ],
             [
              0.8888888888888888,
              "#fdca26"
             ],
             [
              1,
              "#f0f921"
             ]
            ],
            "type": "contour"
           }
          ],
          "contourcarpet": [
           {
            "colorbar": {
             "outlinewidth": 0,
             "ticks": ""
            },
            "type": "contourcarpet"
           }
          ],
          "heatmap": [
           {
            "colorbar": {
             "outlinewidth": 0,
             "ticks": ""
            },
            "colorscale": [
             [
              0,
              "#0d0887"
             ],
             [
              0.1111111111111111,
              "#46039f"
             ],
             [
              0.2222222222222222,
              "#7201a8"
             ],
             [
              0.3333333333333333,
              "#9c179e"
             ],
             [
              0.4444444444444444,
              "#bd3786"
             ],
             [
              0.5555555555555556,
              "#d8576b"
             ],
             [
              0.6666666666666666,
              "#ed7953"
             ],
             [
              0.7777777777777778,
              "#fb9f3a"
             ],
             [
              0.8888888888888888,
              "#fdca26"
             ],
             [
              1,
              "#f0f921"
             ]
            ],
            "type": "heatmap"
           }
          ],
          "heatmapgl": [
           {
            "colorbar": {
             "outlinewidth": 0,
             "ticks": ""
            },
            "colorscale": [
             [
              0,
              "#0d0887"
             ],
             [
              0.1111111111111111,
              "#46039f"
             ],
             [
              0.2222222222222222,
              "#7201a8"
             ],
             [
              0.3333333333333333,
              "#9c179e"
             ],
             [
              0.4444444444444444,
              "#bd3786"
             ],
             [
              0.5555555555555556,
              "#d8576b"
             ],
             [
              0.6666666666666666,
              "#ed7953"
             ],
             [
              0.7777777777777778,
              "#fb9f3a"
             ],
             [
              0.8888888888888888,
              "#fdca26"
             ],
             [
              1,
              "#f0f921"
             ]
            ],
            "type": "heatmapgl"
           }
          ],
          "histogram": [
           {
            "marker": {
             "pattern": {
              "fillmode": "overlay",
              "size": 10,
              "solidity": 0.2
             }
            },
            "type": "histogram"
           }
          ],
          "histogram2d": [
           {
            "colorbar": {
             "outlinewidth": 0,
             "ticks": ""
            },
            "colorscale": [
             [
              0,
              "#0d0887"
             ],
             [
              0.1111111111111111,
              "#46039f"
             ],
             [
              0.2222222222222222,
              "#7201a8"
             ],
             [
              0.3333333333333333,
              "#9c179e"
             ],
             [
              0.4444444444444444,
              "#bd3786"
             ],
             [
              0.5555555555555556,
              "#d8576b"
             ],
             [
              0.6666666666666666,
              "#ed7953"
             ],
             [
              0.7777777777777778,
              "#fb9f3a"
             ],
             [
              0.8888888888888888,
              "#fdca26"
             ],
             [
              1,
              "#f0f921"
             ]
            ],
            "type": "histogram2d"
           }
          ],
          "histogram2dcontour": [
           {
            "colorbar": {
             "outlinewidth": 0,
             "ticks": ""
            },
            "colorscale": [
             [
              0,
              "#0d0887"
             ],
             [
              0.1111111111111111,
              "#46039f"
             ],
             [
              0.2222222222222222,
              "#7201a8"
             ],
             [
              0.3333333333333333,
              "#9c179e"
             ],
             [
              0.4444444444444444,
              "#bd3786"
             ],
             [
              0.5555555555555556,
              "#d8576b"
             ],
             [
              0.6666666666666666,
              "#ed7953"
             ],
             [
              0.7777777777777778,
              "#fb9f3a"
             ],
             [
              0.8888888888888888,
              "#fdca26"
             ],
             [
              1,
              "#f0f921"
             ]
            ],
            "type": "histogram2dcontour"
           }
          ],
          "mesh3d": [
           {
            "colorbar": {
             "outlinewidth": 0,
             "ticks": ""
            },
            "type": "mesh3d"
           }
          ],
          "parcoords": [
           {
            "line": {
             "colorbar": {
              "outlinewidth": 0,
              "ticks": ""
             }
            },
            "type": "parcoords"
           }
          ],
          "pie": [
           {
            "automargin": true,
            "type": "pie"
           }
          ],
          "scatter": [
           {
            "fillpattern": {
             "fillmode": "overlay",
             "size": 10,
             "solidity": 0.2
            },
            "type": "scatter"
           }
          ],
          "scatter3d": [
           {
            "line": {
             "colorbar": {
              "outlinewidth": 0,
              "ticks": ""
             }
            },
            "marker": {
             "colorbar": {
              "outlinewidth": 0,
              "ticks": ""
             }
            },
            "type": "scatter3d"
           }
          ],
          "scattercarpet": [
           {
            "marker": {
             "colorbar": {
              "outlinewidth": 0,
              "ticks": ""
             }
            },
            "type": "scattercarpet"
           }
          ],
          "scattergeo": [
           {
            "marker": {
             "colorbar": {
              "outlinewidth": 0,
              "ticks": ""
             }
            },
            "type": "scattergeo"
           }
          ],
          "scattergl": [
           {
            "marker": {
             "colorbar": {
              "outlinewidth": 0,
              "ticks": ""
             }
            },
            "type": "scattergl"
           }
          ],
          "scattermapbox": [
           {
            "marker": {
             "colorbar": {
              "outlinewidth": 0,
              "ticks": ""
             }
            },
            "type": "scattermapbox"
           }
          ],
          "scatterpolar": [
           {
            "marker": {
             "colorbar": {
              "outlinewidth": 0,
              "ticks": ""
             }
            },
            "type": "scatterpolar"
           }
          ],
          "scatterpolargl": [
           {
            "marker": {
             "colorbar": {
              "outlinewidth": 0,
              "ticks": ""
             }
            },
            "type": "scatterpolargl"
           }
          ],
          "scatterternary": [
           {
            "marker": {
             "colorbar": {
              "outlinewidth": 0,
              "ticks": ""
             }
            },
            "type": "scatterternary"
           }
          ],
          "surface": [
           {
            "colorbar": {
             "outlinewidth": 0,
             "ticks": ""
            },
            "colorscale": [
             [
              0,
              "#0d0887"
             ],
             [
              0.1111111111111111,
              "#46039f"
             ],
             [
              0.2222222222222222,
              "#7201a8"
             ],
             [
              0.3333333333333333,
              "#9c179e"
             ],
             [
              0.4444444444444444,
              "#bd3786"
             ],
             [
              0.5555555555555556,
              "#d8576b"
             ],
             [
              0.6666666666666666,
              "#ed7953"
             ],
             [
              0.7777777777777778,
              "#fb9f3a"
             ],
             [
              0.8888888888888888,
              "#fdca26"
             ],
             [
              1,
              "#f0f921"
             ]
            ],
            "type": "surface"
           }
          ],
          "table": [
           {
            "cells": {
             "fill": {
              "color": "#EBF0F8"
             },
             "line": {
              "color": "white"
             }
            },
            "header": {
             "fill": {
              "color": "#C8D4E3"
             },
             "line": {
              "color": "white"
             }
            },
            "type": "table"
           }
          ]
         },
         "layout": {
          "annotationdefaults": {
           "arrowcolor": "#2a3f5f",
           "arrowhead": 0,
           "arrowwidth": 1
          },
          "autotypenumbers": "strict",
          "coloraxis": {
           "colorbar": {
            "outlinewidth": 0,
            "ticks": ""
           }
          },
          "colorscale": {
           "diverging": [
            [
             0,
             "#8e0152"
            ],
            [
             0.1,
             "#c51b7d"
            ],
            [
             0.2,
             "#de77ae"
            ],
            [
             0.3,
             "#f1b6da"
            ],
            [
             0.4,
             "#fde0ef"
            ],
            [
             0.5,
             "#f7f7f7"
            ],
            [
             0.6,
             "#e6f5d0"
            ],
            [
             0.7,
             "#b8e186"
            ],
            [
             0.8,
             "#7fbc41"
            ],
            [
             0.9,
             "#4d9221"
            ],
            [
             1,
             "#276419"
            ]
           ],
           "sequential": [
            [
             0,
             "#0d0887"
            ],
            [
             0.1111111111111111,
             "#46039f"
            ],
            [
             0.2222222222222222,
             "#7201a8"
            ],
            [
             0.3333333333333333,
             "#9c179e"
            ],
            [
             0.4444444444444444,
             "#bd3786"
            ],
            [
             0.5555555555555556,
             "#d8576b"
            ],
            [
             0.6666666666666666,
             "#ed7953"
            ],
            [
             0.7777777777777778,
             "#fb9f3a"
            ],
            [
             0.8888888888888888,
             "#fdca26"
            ],
            [
             1,
             "#f0f921"
            ]
           ],
           "sequentialminus": [
            [
             0,
             "#0d0887"
            ],
            [
             0.1111111111111111,
             "#46039f"
            ],
            [
             0.2222222222222222,
             "#7201a8"
            ],
            [
             0.3333333333333333,
             "#9c179e"
            ],
            [
             0.4444444444444444,
             "#bd3786"
            ],
            [
             0.5555555555555556,
             "#d8576b"
            ],
            [
             0.6666666666666666,
             "#ed7953"
            ],
            [
             0.7777777777777778,
             "#fb9f3a"
            ],
            [
             0.8888888888888888,
             "#fdca26"
            ],
            [
             1,
             "#f0f921"
            ]
           ]
          },
          "colorway": [
           "#636efa",
           "#EF553B",
           "#00cc96",
           "#ab63fa",
           "#FFA15A",
           "#19d3f3",
           "#FF6692",
           "#B6E880",
           "#FF97FF",
           "#FECB52"
          ],
          "font": {
           "color": "#2a3f5f"
          },
          "geo": {
           "bgcolor": "white",
           "lakecolor": "white",
           "landcolor": "#E5ECF6",
           "showlakes": true,
           "showland": true,
           "subunitcolor": "white"
          },
          "hoverlabel": {
           "align": "left"
          },
          "hovermode": "closest",
          "mapbox": {
           "style": "light"
          },
          "paper_bgcolor": "white",
          "plot_bgcolor": "#E5ECF6",
          "polar": {
           "angularaxis": {
            "gridcolor": "white",
            "linecolor": "white",
            "ticks": ""
           },
           "bgcolor": "#E5ECF6",
           "radialaxis": {
            "gridcolor": "white",
            "linecolor": "white",
            "ticks": ""
           }
          },
          "scene": {
           "xaxis": {
            "backgroundcolor": "#E5ECF6",
            "gridcolor": "white",
            "gridwidth": 2,
            "linecolor": "white",
            "showbackground": true,
            "ticks": "",
            "zerolinecolor": "white"
           },
           "yaxis": {
            "backgroundcolor": "#E5ECF6",
            "gridcolor": "white",
            "gridwidth": 2,
            "linecolor": "white",
            "showbackground": true,
            "ticks": "",
            "zerolinecolor": "white"
           },
           "zaxis": {
            "backgroundcolor": "#E5ECF6",
            "gridcolor": "white",
            "gridwidth": 2,
            "linecolor": "white",
            "showbackground": true,
            "ticks": "",
            "zerolinecolor": "white"
           }
          },
          "shapedefaults": {
           "line": {
            "color": "#2a3f5f"
           }
          },
          "ternary": {
           "aaxis": {
            "gridcolor": "white",
            "linecolor": "white",
            "ticks": ""
           },
           "baxis": {
            "gridcolor": "white",
            "linecolor": "white",
            "ticks": ""
           },
           "bgcolor": "#E5ECF6",
           "caxis": {
            "gridcolor": "white",
            "linecolor": "white",
            "ticks": ""
           }
          },
          "title": {
           "x": 0.05
          },
          "xaxis": {
           "automargin": true,
           "gridcolor": "white",
           "linecolor": "white",
           "ticks": "",
           "title": {
            "standoff": 15
           },
           "zerolinecolor": "white",
           "zerolinewidth": 2
          },
          "yaxis": {
           "automargin": true,
           "gridcolor": "white",
           "linecolor": "white",
           "ticks": "",
           "title": {
            "standoff": 15
           },
           "zerolinecolor": "white",
           "zerolinewidth": 2
          }
         }
        }
       }
      },
      "text/html": [
       "<div>                            <div id=\"e5cfc73a-123a-43b1-9644-c3fcc57e88ad\" class=\"plotly-graph-div\" style=\"height:525px; width:100%;\"></div>            <script type=\"text/javascript\">                require([\"plotly\"], function(Plotly) {                    window.PLOTLYENV=window.PLOTLYENV || {};                                    if (document.getElementById(\"e5cfc73a-123a-43b1-9644-c3fcc57e88ad\")) {                    Plotly.newPlot(                        \"e5cfc73a-123a-43b1-9644-c3fcc57e88ad\",                        [{\"marker\":{\"color\":\"rgb(12, 12, 140)\"},\"name\":\"international score of universities in 2013\",\"y\":[\"59.8\",\"56.6\",\"88.7\",\"63.7\",\"81.6\",\"54.5\",\"83.6\",\"91.4\",\"49.7\",\"55.3\",\"54.7\",\"95.7\",\"42.3\",\"66.1\",\"38.1\",\"57.3\",\"89.0\",\"53.8\",\"33.8\",\"47.6\",\"65.1\",\"51.4\",\"45.8\",\"39.1\",\"66.3\",\"42.1\",\"27.6\",\"77.2\",\"92.3\",\"82.1\",\"29.8\",\"78.9\",\"36.0\",\"75.9\",\"58.3\",\"81.7\",\"90.0\",\"34.2\",\"87.2\",\"98.8\",\"38.7\",\"64.5\",\"32.9\",\"51.7\",\"44.3\",\"54.1\",\"28.7\",\"54.7\",\"77.9\",\"28.8\",\"36.9\",\"37.2\",\"46.3\",\"39.2\",\"26.3\",\"43.4\",\"86.0\",\"56.6\",\"27.0\",\"67.3\",\"34.9\",\"83.0\",\"83.0\",\"54.8\",\"78.1\",\"77.8\",\"47.3\",\"31.1\",\"54.8\",\"51.0\",\"79.2\",\"62.8\",\"31.7\",\"71.9\",\"59.0\",\"29.4\",\"67.7\",\"61.3\",\"36.6\",\"77.7\",\"64.4\",\"64.4\",\"57.0\",\"74.6\",\"84.8\",\"90.5\",\"39.6\",\"66.9\",\"49.8\",\"84.1\",\"34.7\",\"63.9\",\"49.1\",\"36.8\",\"41.6\",\"35.2\",\"40.4\",\"31.3\",\"57.5\",\"66.4\",\"27.9\",\"45.9\",\"71.9\",\"34.2\",\"61.5\",\"56.3\",\"27.5\",\"86.3\",\"48.3\",\"84.5\",\"68.1\",\"76.7\",\"75.1\",\"69.8\",\"85.2\",\"66.4\",\"52.2\",\"27.9\",\"92.5\",\"70.1\",\"67.6\",\"32.5\",\"31.2\",\"62.6\",\"31.5\",\"80.9\",\"53.4\",\"60.9\",\"29.6\",\"73.5\",\"82.7\",\"77.4\",\"95.3\",\"36.0\",\"24.6\",\"25.2\",\"50.3\",\"32.0\",\"69.7\",\"86.1\",\"47.1\",\"89.8\",\"66.6\",\"54.9\",\"76.2\",\"87.0\",\"23.6\",\"27.4\",\"77.0\",\"52.4\",\"64.5\",\"77.3\",\"74.1\",\"53.9\",\"62.8\",\"47.2\",\"28.4\",\"39.5\",\"69.7\",\"24.5\",\"88.0\",\"52.8\",\"86.3\",\"64.3\",\"37.3\",\"66.8\",\"46.8\",\"36.6\",\"26.4\",\"61.0\",\"54.0\",\"73.7\",\"58.1\",\"32.9\",\"32.9\",\"84.1\",\"82.2\",\"68.9\",\"72.4\",\"56.3\",\"74.4\",\"64.0\",\"33.4\",\"51.2\",\"29.1\",\"25.8\",\"76.5\",\"61.5\",\"27.7\",\"88.4\",\"19.0\",\"58.5\",\"30.5\",\"55.9\",\"33.1\",\"83.7\",\"65.9\",\"50.7\",\"57.6\",\"83.2\",\"47.1\",\"45.3\",\"68.1\",\"38.6\",\"57.0\",\"50.3\",\"28.0\",\"25.3\",\"41.0\",\"49.9\",\"58.0\",\"57.9\",\"30.9\",\"56.6\",\"46.0\",\"66.6\",\"49.0\",\"36.2\",\"48.4\",\"88.7\",\"58.5\",\"59.0\",\"22.0\",\"68.3\",\"56.3\",\"42.0\",\"56.8\",\"65.3\",\"58.4\",\"32.6\",\"16.1\",\"27.3\",\"52.8\",\"54.4\",\"62.4\",\"18.8\",\"20.1\",\"55.6\",\"64.4\",\"31.2\",\"71.0\",\"62.2\",\"23.9\",\"30.8\",\"85.4\",\"19.7\",\"65.1\",\"58.3\",\"51.3\",\"44.8\",\"78.2\",\"52.0\",\"59.1\",\"65.4\",\"19.9\",\"86.8\",\"48.4\",\"27.2\",\"57.5\",\"69.2\",\"20.9\",\"47.8\",\"19.6\",\"52.4\",\"40.5\",\"86.4\",\"59.9\",\"44.6\",\"35.7\",\"36.2\",\"43.2\",\"30.2\",\"48.5\",\"84.8\",\"71.4\",\"63.1\",\"70.3\",\"50.4\",\"47.5\",\"36.7\",\"29.8\",\"36.6\",\"20.8\",\"54.2\",\"34.2\",\"87.1\",\"48.3\",\"20.7\",\"46.8\",\"21.9\",\"48.9\",\"75.9\",\"37.6\",\"28.1\",\"24.9\",\"70.5\",\"31.3\",\"67.3\",\"51.2\",\"36.3\",\"27.8\",\"45.7\",\"89.4\",\"50.3\",\"50.0\",\"26.0\",\"24.9\",\"62.0\",\"59.0\",\"71.0\",\"21.7\",\"47.7\",\"66.2\",\"83.3\",\"22.9\",\"23.9\",\"69.3\",\"29.2\",\"38.1\",\"45.8\",\"33.2\",\"16.7\",\"27.8\",\"24.2\",\"61.8\",\"71.5\",\"88.0\",\"44.4\",\"39.5\",\"59.5\",\"59.7\",\"39.0\",\"21.7\",\"38.6\",\"32.6\",\"37.0\",\"34.4\",\"29.6\",\"70.2\",\"81.0\",\"35.0\",\"30.7\",\"19.9\",\"85.6\",\"83.7\",\"48.4\",\"33.9\",\"28.1\",\"50.7\",\"20.1\",\"67.2\",\"30.7\",\"44.3\",\"68.4\",\"59.8\",\"34.9\",\"84.2\",\"15.6\",\"41.7\",\"64.2\",\"22.2\",\"23.8\",\"30.4\",\"48.2\",\"63.9\",\"73.3\",\"33.2\",\"27.9\",\"18.8\",\"69.2\",\"57.6\",\"26.1\",\"35.2\",\"20.1\",\"48.7\",\"50.2\",\"41.4\",\"77.2\",\"32.6\",\"49.7\",\"56.2\",\"67.8\",\"44.1\",\"30.0\",\"24.2\",\"43.2\",\"28.4\",\"63.7\",\"63.0\",\"80.4\",\"42.4\",\"68.4\",\"74.7\",\"28.6\",\"53.0\",\"40.8\",\"26.9\",\"39.8\",\"28.1\",\"32.8\"],\"type\":\"box\"},{\"marker\":{\"color\":\"rgb(12, 128, 128)\"},\"name\":\"research of universities in 2013\",\"y\":[99.4,98.8,98.1,98.6,89.2,99.4,95.6,90.9,99.3,92.9,92.5,92.7,93.8,82.0,89.4,85.5,88.8,92.1,87.3,91.4,89.4,87.0,81.5,81.3,79.5,80.7,89.9,82.5,87.2,80.4,80.1,71.3,84.9,80.4,73.5,85.9,83.5,79.0,80.8,57.0,67.4,75.7,69.3,71.6,62.8,67.9,74.0,66.5,67.7,63.9,60.3,76.4,60.9,50.9,74.8,57.1,59.3,71.0,81.4,46.9,69.2,70.1,54.7,67.1,64.6,66.1,64.7,68.9,71.9,52.5,53.7,64.1,62.6,51.7,39.3,55.1,75.1,49.0,44.4,44.5,43.5,61.3,61.3,57.9,63.8,66.9,36.4,47.9,61.0,41.6,44.4,45.9,56.7,56.8,39.6,47.2,51.4,53.7,58.7,60.6,61.3,37.8,43.9,42.0,42.4,63.9,40.9,43.8,53.0,33.5,46.2,39.5,45.5,51.8,53.2,54.6,43.8,43.0,27.7,50.8,53.9,39.6,62.9,63.1,35.9,50.5,54.3,56.5,56.1,40.4,44.8,38.9,42.5,44.2,65.7,41.3,55.8,55.6,40.2,49.7,45.1,23.2,48.6,33.0,40.9,30.0,55.7,45.2,30.0,33.2,38.9,36.0,38.1,32.4,32.5,58.3,30.1,59.8,46.7,65.7,40.9,29.9,46.7,40.5,41.6,27.1,32.2,28.0,40.9,25.9,26.1,37.5,41.4,35.6,40.2,34.3,43.7,27.7,41.1,26.5,30.5,41.8,50.6,22.5,42.6,22.6,31.8,46.4,39.6,39.9,22.4,35.5,34.3,50.2,27.0,32.5,33.7,40.6,29.7,30.5,35.7,27.9,38.2,39.5,18.4,48.1,46.0,39.2,21.2,23.2,35.4,22.6,48.7,54.5,33.4,23.2,18.7,40.1,41.9,17.9,35.6,39.8,27.7,29.2,25.1,30.5,26.7,41.5,11.9,17.5,45.3,43.7,22.3,27.3,25.6,10.6,44.1,35.3,31.8,22.6,26.8,35.8,26.5,45.8,30.9,42.0,38.3,42.1,37.2,19.4,30.6,26.8,29.8,41.2,33.1,29.6,25.3,49.6,27.7,37.0,46.8,35.0,9.8,34.5,29.7,34.6,28.0,27.0,24.2,21.1,20.4,21.7,14.3,29.1,32.4,21.7,25.7,14.9,20.3,33.9,32.0,14.9,25.5,25.8,24.2,23.8,32.9,37.9,25.3,21.6,15.6,28.8,27.4,20.5,14.9,29.0,28.0,19.6,21.9,23.4,44.4,24.0,20.1,26.2,17.1,9.3,34.2,15.1,13.8,10.3,28.8,27.0,13.4,18.9,40.3,32.5,19.8,28.8,23.8,12.0,30.6,42.8,30.0,17.8,19.4,19.5,24.0,16.3,19.1,11.0,17.6,31.3,27.8,32.4,16.4,21.4,18.3,23.2,10.5,25.0,23.9,26.2,20.6,19.9,27.3,26.8,30.6,16.2,30.1,34.5,24.9,21.9,15.3,22.0,24.2,19.7,21.4,13.7,13.8,18.8,28.0,10.2,19.7,19.1,32.7,19.2,31.6,26.5,42.5,23.9,12.7,12.1,9.0,18.8,21.1,14.7,13.0,9.1,25.0,15.8,20.2,16.9,19.7,16.6,17.8,21.1,21.3,23.7,21.6,25.0,27.4,17.5,21.5,17.6,11.4,14.5,9.5,18.4,24.2,21.3],\"type\":\"box\"}],                        {\"template\":{\"data\":{\"barpolar\":[{\"marker\":{\"line\":{\"color\":\"#E5ECF6\",\"width\":0.5},\"pattern\":{\"fillmode\":\"overlay\",\"size\":10,\"solidity\":0.2}},\"type\":\"barpolar\"}],\"bar\":[{\"error_x\":{\"color\":\"#2a3f5f\"},\"error_y\":{\"color\":\"#2a3f5f\"},\"marker\":{\"line\":{\"color\":\"#E5ECF6\",\"width\":0.5},\"pattern\":{\"fillmode\":\"overlay\",\"size\":10,\"solidity\":0.2}},\"type\":\"bar\"}],\"carpet\":[{\"aaxis\":{\"endlinecolor\":\"#2a3f5f\",\"gridcolor\":\"white\",\"linecolor\":\"white\",\"minorgridcolor\":\"white\",\"startlinecolor\":\"#2a3f5f\"},\"baxis\":{\"endlinecolor\":\"#2a3f5f\",\"gridcolor\":\"white\",\"linecolor\":\"white\",\"minorgridcolor\":\"white\",\"startlinecolor\":\"#2a3f5f\"},\"type\":\"carpet\"}],\"choropleth\":[{\"colorbar\":{\"outlinewidth\":0,\"ticks\":\"\"},\"type\":\"choropleth\"}],\"contourcarpet\":[{\"colorbar\":{\"outlinewidth\":0,\"ticks\":\"\"},\"type\":\"contourcarpet\"}],\"contour\":[{\"colorbar\":{\"outlinewidth\":0,\"ticks\":\"\"},\"colorscale\":[[0.0,\"#0d0887\"],[0.1111111111111111,\"#46039f\"],[0.2222222222222222,\"#7201a8\"],[0.3333333333333333,\"#9c179e\"],[0.4444444444444444,\"#bd3786\"],[0.5555555555555556,\"#d8576b\"],[0.6666666666666666,\"#ed7953\"],[0.7777777777777778,\"#fb9f3a\"],[0.8888888888888888,\"#fdca26\"],[1.0,\"#f0f921\"]],\"type\":\"contour\"}],\"heatmapgl\":[{\"colorbar\":{\"outlinewidth\":0,\"ticks\":\"\"},\"colorscale\":[[0.0,\"#0d0887\"],[0.1111111111111111,\"#46039f\"],[0.2222222222222222,\"#7201a8\"],[0.3333333333333333,\"#9c179e\"],[0.4444444444444444,\"#bd3786\"],[0.5555555555555556,\"#d8576b\"],[0.6666666666666666,\"#ed7953\"],[0.7777777777777778,\"#fb9f3a\"],[0.8888888888888888,\"#fdca26\"],[1.0,\"#f0f921\"]],\"type\":\"heatmapgl\"}],\"heatmap\":[{\"colorbar\":{\"outlinewidth\":0,\"ticks\":\"\"},\"colorscale\":[[0.0,\"#0d0887\"],[0.1111111111111111,\"#46039f\"],[0.2222222222222222,\"#7201a8\"],[0.3333333333333333,\"#9c179e\"],[0.4444444444444444,\"#bd3786\"],[0.5555555555555556,\"#d8576b\"],[0.6666666666666666,\"#ed7953\"],[0.7777777777777778,\"#fb9f3a\"],[0.8888888888888888,\"#fdca26\"],[1.0,\"#f0f921\"]],\"type\":\"heatmap\"}],\"histogram2dcontour\":[{\"colorbar\":{\"outlinewidth\":0,\"ticks\":\"\"},\"colorscale\":[[0.0,\"#0d0887\"],[0.1111111111111111,\"#46039f\"],[0.2222222222222222,\"#7201a8\"],[0.3333333333333333,\"#9c179e\"],[0.4444444444444444,\"#bd3786\"],[0.5555555555555556,\"#d8576b\"],[0.6666666666666666,\"#ed7953\"],[0.7777777777777778,\"#fb9f3a\"],[0.8888888888888888,\"#fdca26\"],[1.0,\"#f0f921\"]],\"type\":\"histogram2dcontour\"}],\"histogram2d\":[{\"colorbar\":{\"outlinewidth\":0,\"ticks\":\"\"},\"colorscale\":[[0.0,\"#0d0887\"],[0.1111111111111111,\"#46039f\"],[0.2222222222222222,\"#7201a8\"],[0.3333333333333333,\"#9c179e\"],[0.4444444444444444,\"#bd3786\"],[0.5555555555555556,\"#d8576b\"],[0.6666666666666666,\"#ed7953\"],[0.7777777777777778,\"#fb9f3a\"],[0.8888888888888888,\"#fdca26\"],[1.0,\"#f0f921\"]],\"type\":\"histogram2d\"}],\"histogram\":[{\"marker\":{\"pattern\":{\"fillmode\":\"overlay\",\"size\":10,\"solidity\":0.2}},\"type\":\"histogram\"}],\"mesh3d\":[{\"colorbar\":{\"outlinewidth\":0,\"ticks\":\"\"},\"type\":\"mesh3d\"}],\"parcoords\":[{\"line\":{\"colorbar\":{\"outlinewidth\":0,\"ticks\":\"\"}},\"type\":\"parcoords\"}],\"pie\":[{\"automargin\":true,\"type\":\"pie\"}],\"scatter3d\":[{\"line\":{\"colorbar\":{\"outlinewidth\":0,\"ticks\":\"\"}},\"marker\":{\"colorbar\":{\"outlinewidth\":0,\"ticks\":\"\"}},\"type\":\"scatter3d\"}],\"scattercarpet\":[{\"marker\":{\"colorbar\":{\"outlinewidth\":0,\"ticks\":\"\"}},\"type\":\"scattercarpet\"}],\"scattergeo\":[{\"marker\":{\"colorbar\":{\"outlinewidth\":0,\"ticks\":\"\"}},\"type\":\"scattergeo\"}],\"scattergl\":[{\"marker\":{\"colorbar\":{\"outlinewidth\":0,\"ticks\":\"\"}},\"type\":\"scattergl\"}],\"scattermapbox\":[{\"marker\":{\"colorbar\":{\"outlinewidth\":0,\"ticks\":\"\"}},\"type\":\"scattermapbox\"}],\"scatterpolargl\":[{\"marker\":{\"colorbar\":{\"outlinewidth\":0,\"ticks\":\"\"}},\"type\":\"scatterpolargl\"}],\"scatterpolar\":[{\"marker\":{\"colorbar\":{\"outlinewidth\":0,\"ticks\":\"\"}},\"type\":\"scatterpolar\"}],\"scatter\":[{\"fillpattern\":{\"fillmode\":\"overlay\",\"size\":10,\"solidity\":0.2},\"type\":\"scatter\"}],\"scatterternary\":[{\"marker\":{\"colorbar\":{\"outlinewidth\":0,\"ticks\":\"\"}},\"type\":\"scatterternary\"}],\"surface\":[{\"colorbar\":{\"outlinewidth\":0,\"ticks\":\"\"},\"colorscale\":[[0.0,\"#0d0887\"],[0.1111111111111111,\"#46039f\"],[0.2222222222222222,\"#7201a8\"],[0.3333333333333333,\"#9c179e\"],[0.4444444444444444,\"#bd3786\"],[0.5555555555555556,\"#d8576b\"],[0.6666666666666666,\"#ed7953\"],[0.7777777777777778,\"#fb9f3a\"],[0.8888888888888888,\"#fdca26\"],[1.0,\"#f0f921\"]],\"type\":\"surface\"}],\"table\":[{\"cells\":{\"fill\":{\"color\":\"#EBF0F8\"},\"line\":{\"color\":\"white\"}},\"header\":{\"fill\":{\"color\":\"#C8D4E3\"},\"line\":{\"color\":\"white\"}},\"type\":\"table\"}]},\"layout\":{\"annotationdefaults\":{\"arrowcolor\":\"#2a3f5f\",\"arrowhead\":0,\"arrowwidth\":1},\"autotypenumbers\":\"strict\",\"coloraxis\":{\"colorbar\":{\"outlinewidth\":0,\"ticks\":\"\"}},\"colorscale\":{\"diverging\":[[0,\"#8e0152\"],[0.1,\"#c51b7d\"],[0.2,\"#de77ae\"],[0.3,\"#f1b6da\"],[0.4,\"#fde0ef\"],[0.5,\"#f7f7f7\"],[0.6,\"#e6f5d0\"],[0.7,\"#b8e186\"],[0.8,\"#7fbc41\"],[0.9,\"#4d9221\"],[1,\"#276419\"]],\"sequential\":[[0.0,\"#0d0887\"],[0.1111111111111111,\"#46039f\"],[0.2222222222222222,\"#7201a8\"],[0.3333333333333333,\"#9c179e\"],[0.4444444444444444,\"#bd3786\"],[0.5555555555555556,\"#d8576b\"],[0.6666666666666666,\"#ed7953\"],[0.7777777777777778,\"#fb9f3a\"],[0.8888888888888888,\"#fdca26\"],[1.0,\"#f0f921\"]],\"sequentialminus\":[[0.0,\"#0d0887\"],[0.1111111111111111,\"#46039f\"],[0.2222222222222222,\"#7201a8\"],[0.3333333333333333,\"#9c179e\"],[0.4444444444444444,\"#bd3786\"],[0.5555555555555556,\"#d8576b\"],[0.6666666666666666,\"#ed7953\"],[0.7777777777777778,\"#fb9f3a\"],[0.8888888888888888,\"#fdca26\"],[1.0,\"#f0f921\"]]},\"colorway\":[\"#636efa\",\"#EF553B\",\"#00cc96\",\"#ab63fa\",\"#FFA15A\",\"#19d3f3\",\"#FF6692\",\"#B6E880\",\"#FF97FF\",\"#FECB52\"],\"font\":{\"color\":\"#2a3f5f\"},\"geo\":{\"bgcolor\":\"white\",\"lakecolor\":\"white\",\"landcolor\":\"#E5ECF6\",\"showlakes\":true,\"showland\":true,\"subunitcolor\":\"white\"},\"hoverlabel\":{\"align\":\"left\"},\"hovermode\":\"closest\",\"mapbox\":{\"style\":\"light\"},\"paper_bgcolor\":\"white\",\"plot_bgcolor\":\"#E5ECF6\",\"polar\":{\"angularaxis\":{\"gridcolor\":\"white\",\"linecolor\":\"white\",\"ticks\":\"\"},\"bgcolor\":\"#E5ECF6\",\"radialaxis\":{\"gridcolor\":\"white\",\"linecolor\":\"white\",\"ticks\":\"\"}},\"scene\":{\"xaxis\":{\"backgroundcolor\":\"#E5ECF6\",\"gridcolor\":\"white\",\"gridwidth\":2,\"linecolor\":\"white\",\"showbackground\":true,\"ticks\":\"\",\"zerolinecolor\":\"white\"},\"yaxis\":{\"backgroundcolor\":\"#E5ECF6\",\"gridcolor\":\"white\",\"gridwidth\":2,\"linecolor\":\"white\",\"showbackground\":true,\"ticks\":\"\",\"zerolinecolor\":\"white\"},\"zaxis\":{\"backgroundcolor\":\"#E5ECF6\",\"gridcolor\":\"white\",\"gridwidth\":2,\"linecolor\":\"white\",\"showbackground\":true,\"ticks\":\"\",\"zerolinecolor\":\"white\"}},\"shapedefaults\":{\"line\":{\"color\":\"#2a3f5f\"}},\"ternary\":{\"aaxis\":{\"gridcolor\":\"white\",\"linecolor\":\"white\",\"ticks\":\"\"},\"baxis\":{\"gridcolor\":\"white\",\"linecolor\":\"white\",\"ticks\":\"\"},\"bgcolor\":\"#E5ECF6\",\"caxis\":{\"gridcolor\":\"white\",\"linecolor\":\"white\",\"ticks\":\"\"}},\"title\":{\"x\":0.05},\"xaxis\":{\"automargin\":true,\"gridcolor\":\"white\",\"linecolor\":\"white\",\"ticks\":\"\",\"title\":{\"standoff\":15},\"zerolinecolor\":\"white\",\"zerolinewidth\":2},\"yaxis\":{\"automargin\":true,\"gridcolor\":\"white\",\"linecolor\":\"white\",\"ticks\":\"\",\"title\":{\"standoff\":15},\"zerolinecolor\":\"white\",\"zerolinewidth\":2}}}},                        {\"responsive\": true}                    ).then(function(){\n",
       "                            \n",
       "var gd = document.getElementById('e5cfc73a-123a-43b1-9644-c3fcc57e88ad');\n",
       "var x = new MutationObserver(function (mutations, observer) {{\n",
       "        var display = window.getComputedStyle(gd).display;\n",
       "        if (!display || display === 'none') {{\n",
       "            console.log([gd, 'removed!']);\n",
       "            Plotly.purge(gd);\n",
       "            observer.disconnect();\n",
       "        }}\n",
       "}});\n",
       "\n",
       "// Listen for the removal of the full notebook cells\n",
       "var notebookContainer = gd.closest('#notebook-container');\n",
       "if (notebookContainer) {{\n",
       "    x.observe(notebookContainer, {childList: true});\n",
       "}}\n",
       "\n",
       "// Listen for the clearing of the current output cell\n",
       "var outputEl = gd.closest('.output');\n",
       "if (outputEl) {{\n",
       "    x.observe(outputEl, {childList: true});\n",
       "}}\n",
       "\n",
       "                        })                };                });            </script>        </div>"
      ]
     },
     "metadata": {},
     "output_type": "display_data"
    }
   ],
   "source": [
    "trace0 = go.Box(  \n",
    "    y=x2013.international, \n",
    "    name = 'international score of universities in 2013',\n",
    "    marker = dict(\n",
    "        color = 'rgb(12, 12, 140)',\n",
    "    )\n",
    ")\n",
    "trace1 = go.Box(\n",
    "    y=x2013.research,\n",
    "    name = 'research of universities in 2013',\n",
    "    marker = dict(\n",
    "        color = 'rgb(12, 128, 128)',\n",
    "    )\n",
    ")\n",
    "data = [trace0, trace1]\n",
    "iplot(data)"
   ]
  },
  {
   "cell_type": "code",
   "execution_count": null,
   "id": "6116f3ef",
   "metadata": {},
   "outputs": [],
   "source": []
  }
 ],
 "metadata": {
  "kernelspec": {
   "display_name": "Python 3 (ipykernel)",
   "language": "python",
   "name": "python3"
  },
  "language_info": {
   "codemirror_mode": {
    "name": "ipython",
    "version": 3
   },
   "file_extension": ".py",
   "mimetype": "text/x-python",
   "name": "python",
   "nbconvert_exporter": "python",
   "pygments_lexer": "ipython3",
   "version": "3.9.13"
  }
 },
 "nbformat": 4,
 "nbformat_minor": 5
}
